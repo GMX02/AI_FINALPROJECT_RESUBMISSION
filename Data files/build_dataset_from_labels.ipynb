{
 "cells": [
  {
   "cell_type": "code",
   "execution_count": 1,
   "id": "05f70285-bb0b-453d-9985-c42ac98b5cf2",
   "metadata": {},
   "outputs": [
    {
     "ename": "ModuleNotFoundError",
     "evalue": "No module named 'librosa'",
     "output_type": "error",
     "traceback": [
      "\u001b[1;31m---------------------------------------------------------------------------\u001b[0m",
      "\u001b[1;31mModuleNotFoundError\u001b[0m                       Traceback (most recent call last)",
      "Cell \u001b[1;32mIn[1], line 2\u001b[0m\n\u001b[0;32m      1\u001b[0m \u001b[38;5;28;01mimport\u001b[39;00m \u001b[38;5;21;01mos\u001b[39;00m\n\u001b[1;32m----> 2\u001b[0m \u001b[38;5;28;01mimport\u001b[39;00m \u001b[38;5;21;01mlibrosa\u001b[39;00m\n\u001b[0;32m      3\u001b[0m \u001b[38;5;28;01mimport\u001b[39;00m \u001b[38;5;21;01mnumpy\u001b[39;00m \u001b[38;5;28;01mas\u001b[39;00m \u001b[38;5;21;01mnp\u001b[39;00m\n\u001b[0;32m      4\u001b[0m \u001b[38;5;28;01mimport\u001b[39;00m \u001b[38;5;21;01mpandas\u001b[39;00m \u001b[38;5;28;01mas\u001b[39;00m \u001b[38;5;21;01mpd\u001b[39;00m\n",
      "\u001b[1;31mModuleNotFoundError\u001b[0m: No module named 'librosa'"
     ]
    }
   ],
   "source": [
    "import os\n",
    "import librosa\n",
    "import numpy as np\n",
    "import pandas as pd\n",
    "from tqdm import tqdm\n",
    "\n",
    "# === CONFIGURATION ===\n",
    "DATASET_DIR = 'edge-collected-gunshot-audio'  # Path to folder with subfolders\n",
    "LABELS_FILE = 'gunshot-audio-labels-only.csv'  # CSV file with labels\n",
    "OUTPUT_X = 'X.npy'\n",
    "OUTPUT_Y = 'y.npy'\n",
    "\n",
    "SAMPLE_RATE = 22050\n",
    "DURATION = 2.0\n",
    "N_MELS = 128\n",
    "EXPECTED_WIDTH = 87  # Roughly 2 seconds with default hop length\n",
    "\n",
    "def extract_mel_spectrogram(file_path):\n",
    "    y, sr = librosa.load(file_path, sr=SAMPLE_RATE, duration=DURATION)\n",
    "    if len(y) < sr * DURATION:\n",
    "        y = np.pad(y, (0, int(sr * DURATION) - len(y)))  # Pad if too short\n",
    "    mel = librosa.feature.melspectrogram(y=y, sr=sr, n_mels=N_MELS)\n",
    "    mel_db = librosa.power_to_db(mel, ref=np.max)\n",
    "\n",
    "    # Resize to standard shape\n",
    "    if mel_db.shape[1] < EXPECTED_WIDTH:\n",
    "        mel_db = np.pad(mel_db, ((0, 0), (0, EXPECTED_WIDTH - mel_db.shape[1])))\n",
    "    elif mel_db.shape[1] > EXPECTED_WIDTH:\n",
    "        mel_db = mel_db[:, :EXPECTED_WIDTH]\n",
    "    return mel_db\n",
    "\n",
    "def build_dataset(dataset_dir, labels_csv):\n",
    "    labels_df = pd.read_csv(labels_csv)\n",
    "    labels_df['label'] = (labels_df['num_gunshots'] > 0).astype(int)\n",
    "    label_map = dict(zip(labels_df['filename'], labels_df['label']))\n",
    "\n",
    "    X = []\n",
    "    y = []\n",
    "\n",
    "    print(\"Processing audio files...\")\n",
    "    for root, _, files in os.walk(dataset_dir):\n",
    "        for file in tqdm(files):\n",
    "            if file.endswith('.wav'):\n",
    "                base = os.path.splitext(file)[0]\n",
    "                if base not in label_map:\n",
    "                    continue  # Skip files with no label\n",
    "                label = label_map[base]\n",
    "                file_path = os.path.join(root, file)\n",
    "                try:\n",
    "                    mel = extract_mel_spectrogram(file_path)\n",
    "                    X.append(mel)\n",
    "                    y.append(label)\n",
    "                except Exception as e:\n",
    "                    print(f\"Error processing {file_path}: {e}\")\n",
    "                    continue\n",
    "\n",
    "    X = np.array(X)\n",
    "    y = np.array(y)\n",
    "    return X, y\n",
    "\n",
    "if __name__ == '__main__':\n",
    "    print(\"Building dataset using CSV labels...\")\n",
    "    X, y = build_dataset(DATASET_DIR, LABELS_FILE)\n",
    "\n",
    "    print(f\"Saving {len(X)} samples...\")\n",
    "    np.save(OUTPUT_X, X)\n",
    "    np.save(OUTPUT_Y, y)\n",
    "\n",
    "    print(\"Done! Shapes:\")\n",
    "    print(\"X:\", X.shape)\n",
    "    print(\"y:\", y.shape)\n"
   ]
  },
  {
   "cell_type": "code",
   "execution_count": null,
   "id": "f29a1b56-a8a8-4040-9fcc-d785316ddffc",
   "metadata": {},
   "outputs": [],
   "source": []
  }
 ],
 "metadata": {
  "kernelspec": {
   "display_name": "Python [conda env:base] *",
   "language": "python",
   "name": "conda-base-py"
  },
  "language_info": {
   "codemirror_mode": {
    "name": "ipython",
    "version": 3
   },
   "file_extension": ".py",
   "mimetype": "text/x-python",
   "name": "python",
   "nbconvert_exporter": "python",
   "pygments_lexer": "ipython3",
   "version": "3.12.3"
  }
 },
 "nbformat": 4,
 "nbformat_minor": 5
}
